{
 "cells": [
  {
   "cell_type": "code",
   "execution_count": null,
   "metadata": {
    "colab": {
     "base_uri": "https://localhost:8080/"
    },
    "executionInfo": {
     "elapsed": 7,
     "status": "ok",
     "timestamp": 1677372209996,
     "user": {
      "displayName": "Juanita Caballero Villalobos",
      "userId": "13246763383882172448"
     },
     "user_tz": 300
    },
    "id": "o6w4WoEDP5oE",
    "outputId": "f31a7a2c-3e31-411f-f737-775a2d8c54a9",
    "tags": []
   },
   "outputs": [],
   "source": [
    "# ----------------------------------------------------------------------------------------\n",
    "# PROGRAMA: Primera Entrega Spotify\n",
    "# ----------------------------------------------------------------------------------------\n",
    "# Descripción: El programa XXXXXXXX\n",
    "# ----------------------------------------------------------------------------------------\n",
    "# Autores: Juanita Caballero Villalobos - Daniel Hamilton Smith\n",
    "# Version: 1.0\n",
    "# [18.02.2023]\n",
    "# ----------------------------------------------------------------------------------------\n",
    "\n",
    "!python --version"
   ]
  },
  {
   "cell_type": "code",
   "execution_count": null,
   "metadata": {
    "colab": {
     "base_uri": "https://localhost:8080/"
    },
    "executionInfo": {
     "elapsed": 8600,
     "status": "ok",
     "timestamp": 1677372218594,
     "user": {
      "displayName": "Juanita Caballero Villalobos",
      "userId": "13246763383882172448"
     },
     "user_tz": 300
    },
    "id": "2Q5g65SsCqKI",
    "outputId": "fc4f6f35-a486-4810-a322-5871ead451fb",
    "tags": []
   },
   "outputs": [],
   "source": [
    "# !pip install chardet\n",
    "!pip install pylev"
   ]
  },
  {
   "cell_type": "code",
   "execution_count": null,
   "metadata": {
    "id": "Slu9ZSHLQW4v",
    "tags": []
   },
   "outputs": [],
   "source": [
    "# ----------------------------------------------------------------------------------------\n",
    "# IMPORTAR MODULOS\n",
    "# ----------------------------------------------------------------------------------------\n",
    "\n",
    "import numpy as np\n",
    "import pandas as pd\n",
    "pd.set_option('mode.chained_assignment', None)\n"
   ]
  },
  {
   "cell_type": "markdown",
   "metadata": {
    "id": "95xZokGrgPXT",
    "jp-MarkdownHeadingCollapsed": true,
    "tags": []
   },
   "source": [
    "# Datasets"
   ]
  },
  {
   "cell_type": "markdown",
   "metadata": {
    "id": "mgQHItysByDu",
    "tags": []
   },
   "source": [
    "## utils"
   ]
  },
  {
   "cell_type": "code",
   "execution_count": null,
   "metadata": {
    "id": "s6iPzcKzTqMW",
    "tags": []
   },
   "outputs": [],
   "source": [
    "def load_df_detect_encoding(filename):\n",
    "    import chardet\n",
    "    with open(filename, 'rb') as file:\n",
    "        print(chardet.detect(file.read()))\n",
    "\n",
    "def replace_nan_by_median(df, column):\n",
    "    null_cols = len(df[df[column].isnull()])\n",
    "    if null_cols > 0:\n",
    "        median = df[column].median()\n",
    "        print(\"changed\", null_cols, 'to', median)\n",
    "        df.fillna(median, inplace=True)\n",
    "    else:\n",
    "        print('none changed')\n",
    "        \n",
    "def clean_and_check_in_range(df, column, min_v, max_v, column_type=None):\n",
    "    replace_nan_by_median(df, column)\n",
    "    \n",
    "    # df = check_is_number(df, column, number_type)\n",
    "    if column_type:\n",
    "        df[column] = df[column].astype(column_type)\n",
    "    # me hace pensar si valdria la pena en vez de revisar si esta dentro del rango\n",
    "    # marcar esos valores como 'null' y hacerles otro tipo de proceso\n",
    "    df[column].clip(min_v, max_v, inplace = True)\n",
    "\n",
    "    unq = df[column].unique()\n",
    "    \n",
    "    print('min', min(unq), 'max', max(unq))\n",
    "    assert max_v >= max(unq)\n",
    "    assert min_v <= min(unq)\n",
    "    \n",
    "    return df[column]\n",
    "\n",
    "def clean_str_to_list(x):\n",
    "    return str(x).replace('\"','').replace('\\'','').replace('[','').replace(']','').replace(', ', ',').split(',')"
   ]
  },
  {
   "cell_type": "markdown",
   "metadata": {
    "id": "f-ZXYXARB05g",
    "tags": []
   },
   "source": [
    "## Artists"
   ]
  },
  {
   "cell_type": "code",
   "execution_count": null,
   "metadata": {
    "colab": {
     "base_uri": "https://localhost:8080/",
     "height": 328
    },
    "executionInfo": {
     "elapsed": 319,
     "status": "error",
     "timestamp": 1677372220172,
     "user": {
      "displayName": "Juanita Caballero Villalobos",
      "userId": "13246763383882172448"
     },
     "user_tz": 300
    },
    "id": "1aOamzuxtDqn",
    "outputId": "02e1cb34-1a96-4482-84b1-0434abbef73d",
    "tags": []
   },
   "outputs": [],
   "source": [
    "artists_df = pd.read_csv('artists_mod.csv')\n",
    "artists_df"
   ]
  },
  {
   "cell_type": "code",
   "execution_count": null,
   "metadata": {
    "id": "RgVTCvHb44S1",
    "outputId": "062b88f4-3ecb-4e2b-bd68-2f7a008be4f9",
    "tags": []
   },
   "outputs": [],
   "source": [
    "artists_df.dtypes"
   ]
  },
  {
   "cell_type": "code",
   "execution_count": null,
   "metadata": {
    "id": "dN-R7viQMch8",
    "tags": []
   },
   "outputs": [],
   "source": [
    "artists_df.dropna(thresh=len(artists_df.columns)/2, inplace=True)"
   ]
  },
  {
   "cell_type": "code",
   "execution_count": null,
   "metadata": {
    "id": "ARNzicE-Mch8",
    "outputId": "1b0c6c8f-4686-4c2b-98cb-3d18b6e369cc",
    "tags": []
   },
   "outputs": [],
   "source": [
    "artists_df"
   ]
  },
  {
   "cell_type": "markdown",
   "metadata": {
    "id": "BfYU6YSbG--x",
    "tags": []
   },
   "source": [
    "### id"
   ]
  },
  {
   "cell_type": "code",
   "execution_count": null,
   "metadata": {
    "id": "56XJcC8sMch8",
    "outputId": "835ab1d0-ed92-4194-a834-06c247bf4bdc",
    "tags": []
   },
   "outputs": [],
   "source": [
    "# no hay ids duplicados\n",
    "artists_df[artists_df['id'].duplicated()]"
   ]
  },
  {
   "cell_type": "markdown",
   "metadata": {
    "id": "M2n-uNeoMch9",
    "tags": []
   },
   "source": [
    "### name"
   ]
  },
  {
   "cell_type": "code",
   "execution_count": null,
   "metadata": {
    "id": "-pQiWiKgMch9",
    "outputId": "c50ca6b7-fba4-444e-c158-98fcaa271bf8",
    "tags": []
   },
   "outputs": [],
   "source": [
    "# no hay nombres vacios\n",
    "artists_df[artists_df['name'] == \"\"]\n",
    "# artists_df['name']"
   ]
  },
  {
   "cell_type": "markdown",
   "metadata": {
    "id": "XepcqMomMch-",
    "tags": []
   },
   "source": [
    "### id"
   ]
  },
  {
   "cell_type": "code",
   "execution_count": null,
   "metadata": {
    "id": "vBzV4NkTMch-",
    "tags": []
   },
   "outputs": [],
   "source": [
    "artists_df['id'] = artists_df['id'].astype(str)"
   ]
  },
  {
   "cell_type": "markdown",
   "metadata": {
    "id": "krakEVk7Mch-",
    "tags": []
   },
   "source": [
    "### followers"
   ]
  },
  {
   "cell_type": "code",
   "execution_count": null,
   "metadata": {
    "id": "6ie82AplDgeH",
    "outputId": "376f60e1-f17f-4252-ace8-4a9bf8ca44e2",
    "tags": []
   },
   "outputs": [],
   "source": [
    "print(artists_df['followers'].unique())\n",
    "\n",
    "replace_nan_by_median(artists_df, 'followers')\n",
    "# only keep rows that dont have nil in the followers column\n",
    "# artists_df = artists_df[~artists_df['followers'].isnull()]\n",
    "\n",
    "# this column should be composed only of ints\n",
    "artists_df['followers'] = artists_df['followers'].astype(int)\n",
    "\n",
    "# min should be 0\n",
    "assert 0 <= min(artists_df['followers'].unique())"
   ]
  },
  {
   "cell_type": "markdown",
   "metadata": {
    "id": "c5yYLd5nMch-",
    "tags": []
   },
   "source": [
    "### name"
   ]
  },
  {
   "cell_type": "code",
   "execution_count": null,
   "metadata": {
    "id": "vBGxoZBGMch_",
    "tags": []
   },
   "outputs": [],
   "source": [
    "artists_df['name'] = artists_df['name'].astype(str)"
   ]
  },
  {
   "cell_type": "markdown",
   "metadata": {
    "id": "kWZ1puH1MciA",
    "tags": []
   },
   "source": [
    "### popularity"
   ]
  },
  {
   "cell_type": "code",
   "execution_count": null,
   "metadata": {
    "id": "v8sz2OwiMciA",
    "outputId": "de91ee1e-50ac-4745-dfb2-61693916c049",
    "tags": []
   },
   "outputs": [],
   "source": [
    "replace_nan_by_median(artists_df, 'popularity')\n",
    "\n",
    "# this column should be composed only of ints\n",
    "artists_df['popularity'] = artists_df['popularity'].astype(int)\n",
    "\n",
    "assert 0 <= min(artists_df['popularity'])"
   ]
  },
  {
   "cell_type": "markdown",
   "metadata": {
    "id": "yIRX1OrwHJAt",
    "tags": []
   },
   "source": [
    "### genres"
   ]
  },
  {
   "cell_type": "code",
   "execution_count": null,
   "metadata": {
    "id": "tWpK6I-2HLrA",
    "outputId": "4ef5562e-428b-4200-9a05-2fae1bb6516c",
    "tags": []
   },
   "outputs": [],
   "source": [
    "# tried at first to copy it into another dataframe, but this proved to be faster\n",
    "artists_df['genres_list'] = artists_df['genres'].apply(clean_str_to_list)\n",
    "artists_df['genres_list']"
   ]
  },
  {
   "cell_type": "code",
   "execution_count": null,
   "metadata": {
    "id": "U8l0-QYRS8PA",
    "outputId": "65fd5965-4000-483d-c60f-94acb136a548",
    "tags": []
   },
   "outputs": [],
   "source": [
    "import pylev\n",
    "\n",
    "# algunos están en español, otros en ingles \n",
    "# algunos parecen ser generos, otros instrumentos\n",
    "\n",
    "def flatten_list_remove_empty(x):\n",
    "    flat_list = []\n",
    "    for elem in x:\n",
    "        for num in elem.split(' '):\n",
    "            if num and num not in flat_list:\n",
    "                flat_list += [num]\n",
    "    return flat_list\n",
    "        \n",
    "artists_df['flat_genres_list'] = artists_df['genres_list'].apply(flatten_list_remove_empty)\n",
    "artists_df['flat_genres_list']"
   ]
  },
  {
   "cell_type": "code",
   "execution_count": null,
   "metadata": {
    "id": "xc1y82CxPib5",
    "outputId": "77d07fd4-db83-4f31-fce0-064d417585ce",
    "tags": []
   },
   "outputs": [],
   "source": [
    "artists_df.dtypes"
   ]
  },
  {
   "cell_type": "markdown",
   "metadata": {
    "id": "BUlhSbdVB7fS",
    "tags": []
   },
   "source": [
    "## Tracks"
   ]
  },
  {
   "cell_type": "code",
   "execution_count": null,
   "metadata": {
    "id": "nJFmiMs2UJUn",
    "outputId": "4549128d-cefa-4f0a-86f7-0e5d19e85ad2",
    "tags": []
   },
   "outputs": [],
   "source": [
    "# load_df_detect_encoding('tracks_mod.csv')\n",
    "# if a line generates an error, ignore it\n",
    "tracks_df = pd.read_csv('tracks_mod.csv', on_bad_lines='warn', encoding= 'latin-1')\n",
    "\n",
    "tracks_df.dtypes"
   ]
  },
  {
   "cell_type": "code",
   "execution_count": null,
   "metadata": {
    "id": "imRLv6-pMciC",
    "outputId": "16de4d4a-135f-4a78-b154-a1cdfa03eb42",
    "tags": []
   },
   "outputs": [],
   "source": [
    "tracks_df.dtypes"
   ]
  },
  {
   "cell_type": "code",
   "execution_count": null,
   "metadata": {
    "id": "zfo5-g9o9ACR",
    "outputId": "34fc6b38-15c8-4c84-a2c6-7564dc2c122c",
    "tags": []
   },
   "outputs": [],
   "source": [
    "print(tracks_df[tracks_df['id_artists'].isna()])\n",
    "tracks_df.dropna(thresh=len(tracks_df.columns)/2, inplace=True)"
   ]
  },
  {
   "cell_type": "markdown",
   "metadata": {
    "id": "S5lwUCzWzWi9",
    "tags": []
   },
   "source": [
    "### Popularity"
   ]
  },
  {
   "cell_type": "code",
   "execution_count": null,
   "metadata": {
    "id": "EVv6c-bh-AFL",
    "outputId": "2aa38b5e-bc52-4fe9-e5e0-7f0ead908e68",
    "tags": []
   },
   "outputs": [],
   "source": [
    "# DOCS: The popularity of the album. \n",
    "# The value will be between 0 and 100, with 100 being the most popular.\n",
    "\n",
    "print(tracks_df['popularity'].unique())\n",
    "tracks_df['popularity'] = clean_and_check_in_range(tracks_df, 'popularity', 0, 100, int)\n",
    "\n",
    "print(tracks_df['popularity'].unique())"
   ]
  },
  {
   "cell_type": "markdown",
   "metadata": {
    "id": "OqNLRLwQ2Xu4",
    "tags": []
   },
   "source": [
    "### duration_ms"
   ]
  },
  {
   "cell_type": "code",
   "execution_count": null,
   "metadata": {
    "id": "DWXCh3yB_Vyy",
    "outputId": "9b30ad04-b396-4479-a8ed-fb275ffe786f",
    "tags": []
   },
   "outputs": [],
   "source": [
    "# DOCS: The duration of the track in milliseconds.\n",
    "\n",
    "tracks_df['duration_ms'] = tracks_df['duration_ms'].astype(int)\n",
    "replace_nan_by_median(tracks_df, 'duration_ms')\n",
    "tracks_df['duration_ms']"
   ]
  },
  {
   "cell_type": "markdown",
   "metadata": {
    "id": "yKu4vqryMciD",
    "tags": []
   },
   "source": [
    "### explicit"
   ]
  },
  {
   "cell_type": "code",
   "execution_count": null,
   "metadata": {
    "id": "cwKvzAy7MciD",
    "outputId": "1c52491e-e2f3-4dd5-f590-5a4adde5ac5e",
    "tags": []
   },
   "outputs": [],
   "source": [
    "# DOCS: Whether or not the track has explicit lyrics ( true = yes it does; false = no it does not OR unknown).\n",
    "print(tracks_df['explicit'].unique())\n",
    "tracks_df['explicit'][tracks_df['explicit'] == -1 ] = 0\n",
    "print(tracks_df['explicit'].unique())"
   ]
  },
  {
   "cell_type": "markdown",
   "metadata": {
    "id": "Pq2gMh64CUH1",
    "tags": []
   },
   "source": [
    "### artist id_artist"
   ]
  },
  {
   "cell_type": "code",
   "execution_count": null,
   "metadata": {
    "id": "9FF-Sxg8CXl5",
    "outputId": "1eaaac27-5641-4894-92bb-e1b6e418c503",
    "tags": []
   },
   "outputs": [],
   "source": [
    "def clean_artists(artists, ids):\n",
    "    return list(zip(clean_str_to_list(artists), clean_str_to_list(ids)))\n",
    "\n",
    "# if 'artists' in tracks_df.columns and 'id_artists' in tracks_df.columns:\n",
    "tracks_df['artists_list'] = tracks_df.apply(lambda x: clean_artists(x.artists, x.id_artists), axis=1)\n",
    "# tracks_df.drop(columns=['artists', 'id_artists'], inplace=True)\n",
    "tracks_df\n",
    "\n",
    "tracks_df['artists_list']"
   ]
  },
  {
   "cell_type": "markdown",
   "metadata": {
    "id": "ee5mykcI2w5K",
    "tags": []
   },
   "source": [
    "### release date"
   ]
  },
  {
   "cell_type": "code",
   "execution_count": null,
   "metadata": {
    "id": "fvsjiBPSHHDm",
    "outputId": "46d6a123-c383-4455-aa1d-d5ed24011858",
    "tags": []
   },
   "outputs": [],
   "source": [
    "from datetime import datetime\n",
    "import re\n",
    "\n",
    "def check_format(x, format):\n",
    "    try:\n",
    "        return datetime.strptime(x, format)\n",
    "    except:\n",
    "        return None\n",
    "\n",
    "def fix_date(datestr):\n",
    "    if isinstance(datestr, datetime):\n",
    "        return datestr\n",
    "    \n",
    "    datestr = \"\".join([ele for ele in str(datestr) if ele.isdigit() or ele == '-' ])\n",
    "    if date := check_format(datestr, \"%Y-%m-%d\"):\n",
    "        pass\n",
    "    elif date:= check_format(datestr, \"%Y-%m\"):\n",
    "        pass\n",
    "    elif date:= check_format(datestr, \"%Y\"):\n",
    "        pass\n",
    "\n",
    "    return date\n",
    "\n",
    "tracks_df['release_date'] = tracks_df[\"release_date\"].apply(fix_date)\n",
    "tracks_df['release_date']"
   ]
  },
  {
   "cell_type": "markdown",
   "metadata": {
    "id": "PvHz_99G2a2x",
    "tags": []
   },
   "source": [
    "### danceability"
   ]
  },
  {
   "cell_type": "code",
   "execution_count": null,
   "metadata": {
    "id": "49s5_919MciE",
    "outputId": "741684c3-c61b-49a8-d7a8-e8f756d8dcff",
    "tags": []
   },
   "outputs": [],
   "source": [
    "# DOCS: Danceability describes how suitable a track is for dancing based on a combination of musical elements including tempo, rhythm stability, beat strength, and overall regularity. \n",
    "# A value of 0.0 is least danceable and 1.0 is most danceable.\n",
    "\n",
    "tracks_df['danceability'] = clean_and_check_in_range(tracks_df, 'danceability', 0, 1)\n",
    "\n",
    "tracks_df['danceability']"
   ]
  },
  {
   "cell_type": "markdown",
   "metadata": {
    "id": "kvS6bph8MciE",
    "tags": []
   },
   "source": [
    "### energy"
   ]
  },
  {
   "cell_type": "code",
   "execution_count": null,
   "metadata": {
    "id": "b8jmPz8-MciE",
    "outputId": "09e43a22-3676-454f-e40a-efe80ad2eee3",
    "tags": []
   },
   "outputs": [],
   "source": [
    "# DOCS: Energy is a measure from 0.0 to 1.0 and represents a perceptual measure of intensity and activity.\n",
    "\n",
    "tracks_df['energy'] = clean_and_check_in_range(tracks_df, 'energy', 0, 1)\n",
    "\n",
    "tracks_df['energy']"
   ]
  },
  {
   "cell_type": "markdown",
   "metadata": {
    "id": "EVoSqEhpMciF",
    "tags": []
   },
   "source": [
    "### key"
   ]
  },
  {
   "cell_type": "code",
   "execution_count": null,
   "metadata": {
    "id": "HIqHbm_0MciF",
    "outputId": "1d2e10d7-81c9-46b0-fefa-0967ea59a2dc",
    "tags": []
   },
   "outputs": [],
   "source": [
    "# DOCS: The key the track is in. Integers map to pitches using standard Pitch Class notation. E.g. 0 = C, 1 = C♯/D♭, 2 = D, and so on. If no key was detected, the value is -1.\n",
    "# >= -1<= 11\n",
    "\n",
    "tracks_df['key'] = clean_and_check_in_range(tracks_df, 'key', -1, 11)\n",
    "\n",
    "tracks_df['key']"
   ]
  },
  {
   "cell_type": "markdown",
   "metadata": {
    "id": "N4RU3eq4Mc5N",
    "tags": []
   },
   "source": [
    "### Loudness"
   ]
  },
  {
   "cell_type": "code",
   "execution_count": null,
   "metadata": {
    "id": "Onz5SHR6Me45",
    "outputId": "c67bbbf8-8221-4456-b1b4-5b39c6369ba0",
    "tags": []
   },
   "outputs": [],
   "source": [
    "# DOCS: Values typically range between -60 and 0 db.\n",
    "\n",
    "tracks_df['loudness'] = clean_and_check_in_range(tracks_df, 'loudness', -60, 0)\n",
    "\n",
    "tracks_df['loudness']"
   ]
  },
  {
   "cell_type": "markdown",
   "metadata": {
    "id": "BhPVuFgtMciG",
    "tags": []
   },
   "source": [
    "### mode"
   ]
  },
  {
   "cell_type": "code",
   "execution_count": null,
   "metadata": {
    "id": "nU7lJ0ulMciG",
    "outputId": "4d3329f3-c1f9-4c9d-e1aa-5da81e270908",
    "tags": []
   },
   "outputs": [],
   "source": [
    "# DOCS: Mode indicates the modality (major or minor) of a track, the type of scale from which its melodic content is derived. \n",
    "# Major is represented by 1 and minor is 0.\n",
    "\n",
    "print(tracks_df['mode'].unique())\n",
    "\n",
    "def mode_type_from_mode(x):\n",
    "    if x == 0:\n",
    "        ret = \"minor\"  \n",
    "    else:\n",
    "        ret = \"mayor\"\n",
    "    return ret\n",
    "\n",
    "tracks_df['mode'] = tracks_df['mode'].apply(lambda x: 0 if x == 0 else 1)\n",
    "tracks_df['mode_type'] = tracks_df['mode'].apply(mode_type_from_mode)\n",
    "\n",
    "print(tracks_df['mode'].unique())\n",
    "\n",
    "tracks_df['mode_type']"
   ]
  },
  {
   "cell_type": "markdown",
   "metadata": {
    "id": "ZpnoqKB5MciG",
    "tags": []
   },
   "source": [
    "### speechiness"
   ]
  },
  {
   "cell_type": "code",
   "execution_count": null,
   "metadata": {
    "id": "NWW9L7lvMciG",
    "outputId": "7198b660-af06-447e-8444-83a794533381",
    "tags": []
   },
   "outputs": [],
   "source": [
    "# DOCS: Speechiness detects the presence of spoken words in a track. \n",
    "# The more exclusively speech-like the recording (e.g. talk show, audio book, poetry), \n",
    "# the closer to 1.0 the attribute value. \n",
    "# Values above 0.66 describe tracks that are probably made entirely of spoken words. \n",
    "# Values between 0.33 and 0.66 describe tracks that may contain both music and speech, \n",
    "# either in sections or layered, including such cases as rap music. \n",
    "# Values below 0.33 most likely represent music and other non-speech-like tracks.\n",
    "\n",
    "def check_track_type_by_speechiness(x):\n",
    "    tp = ''\n",
    "    if x < 0.33: \n",
    "        tp = 'music'\n",
    "    elif 0.33 < x:\n",
    "        tp = 'mixed'\n",
    "    elif 0.66 < x:\n",
    "        tp = 'speech'\n",
    "    return tp\n",
    "\n",
    "tracks_df['speechiness'] = clean_and_check_in_range(tracks_df, 'speechiness', 0, 1)\n",
    "\n",
    "tracks_df['track_type'] = tracks_df['speechiness'].apply(check_track_type_by_speechiness)\n",
    "tracks_df['track_type']"
   ]
  },
  {
   "cell_type": "markdown",
   "metadata": {
    "id": "qlApuu_OMciG",
    "tags": []
   },
   "source": [
    "### acousticness"
   ]
  },
  {
   "cell_type": "code",
   "execution_count": null,
   "metadata": {
    "id": "RMyUU7SoCMRz",
    "outputId": "908f7b81-b248-4a91-cc01-ab886b4f1143",
    "tags": []
   },
   "outputs": [],
   "source": [
    "# DOCS: A confidence measure from 0.0 to 1.0 of whether the track is acoustic. \n",
    "# 1.0 represents high confidence the track is acoustic.\n",
    "\n",
    "tracks_df['acousticness'] = clean_and_check_in_range(tracks_df, 'acousticness', 0, 1)\n",
    "\n",
    "tracks_df['acousticness']"
   ]
  },
  {
   "cell_type": "markdown",
   "metadata": {
    "id": "Zot5jZjpMciH",
    "tags": []
   },
   "source": [
    "### instrumentalness"
   ]
  },
  {
   "cell_type": "code",
   "execution_count": null,
   "metadata": {
    "id": "Sy9uQL_zMciH",
    "outputId": "3b4a9d0e-1f4f-4aad-f5ae-74261ed18ba0",
    "tags": []
   },
   "outputs": [],
   "source": [
    "# Predicts whether a track contains no vocals. \n",
    "# \"Ooh\" and \"aah\" sounds are treated as instrumental in this context. \n",
    "# Rap or spoken word tracks are clearly \"vocal\". \n",
    "# The closer the instrumentalness value is to 1.0, \n",
    "# the greater likelihood the track contains no vocal content. \n",
    "# Values above 0.5 are intended to represent instrumental tracks, \n",
    "# but confidence is higher as the value approaches 1.0.\n",
    "\n",
    "def check_track_type_by_instrumentalness(x):\n",
    "    tp = ''\n",
    "    if 0.5 < x:\n",
    "        tp = 'instrumental'\n",
    "    else:\n",
    "        tp = 'vocal'\n",
    "    return tp\n",
    "\n",
    "tracks_df['instrumentalness'] = clean_and_check_in_range(tracks_df, 'instrumentalness', 0, 1)\n",
    "\n",
    "tracks_df['instrumental_type'] = tracks_df['instrumentalness'].apply(check_track_type_by_instrumentalness)\n",
    "tracks_df['instrumental_type']"
   ]
  },
  {
   "cell_type": "markdown",
   "metadata": {
    "id": "motabzJEMciH",
    "tags": []
   },
   "source": [
    "### liveness"
   ]
  },
  {
   "cell_type": "code",
   "execution_count": null,
   "metadata": {
    "id": "Vp8NflvpMciH",
    "outputId": "34070556-296a-429e-f352-a3d9ae2accd9",
    "tags": []
   },
   "outputs": [],
   "source": [
    "# DOCS: Detects the presence of an audience in the recording. \n",
    "# Higher liveness values represent an increased probability that the track \n",
    "# was performed live. A value above 0.8 provides strong likelihood that the track is live.\n",
    "\n",
    "def check_track_type_by_liveness(x):\n",
    "    tp = ''\n",
    "    if 0.8 < x:\n",
    "        tp = 'live'\n",
    "    else:\n",
    "        tp = 'recorded'\n",
    "    return tp\n",
    "\n",
    "tracks_df['liveness'] = clean_and_check_in_range(tracks_df, 'liveness', 0, 1)\n",
    "\n",
    "tracks_df['live_type'] = tracks_df['liveness'].apply(check_track_type_by_instrumentalness)\n",
    "tracks_df['live_type']"
   ]
  },
  {
   "cell_type": "markdown",
   "metadata": {
    "id": "HSBkYVdyMciI",
    "tags": []
   },
   "source": [
    "### valence"
   ]
  },
  {
   "cell_type": "code",
   "execution_count": null,
   "metadata": {
    "id": "dPaduVaPMciJ",
    "outputId": "5c6a3f0c-2ed5-434e-a024-8b36fc8eb3f2",
    "tags": []
   },
   "outputs": [],
   "source": [
    "# DOCS: A measure from 0.0 to 1.0 describing the musical positiveness conveyed by a track. \n",
    "# Tracks with high valence sound more positive (e.g. happy, cheerful, euphoric), \n",
    "# while tracks with low valence sound more negative (e.g. sad, depressed, angry).\n",
    "\n",
    "def check_track_type_by_valence(x):\n",
    "    tp = ''\n",
    "    if 0.5 < x:\n",
    "        tp = 'positive'\n",
    "    else:\n",
    "        tp = 'negative'\n",
    "    return tp\n",
    "\n",
    "tracks_df['valence'] = clean_and_check_in_range(tracks_df, 'valence', 0, 1)\n",
    "\n",
    "tracks_df['valence_type'] = tracks_df['valence'].apply(check_track_type_by_valence)\n",
    "tracks_df['valence_type']"
   ]
  },
  {
   "cell_type": "markdown",
   "metadata": {
    "id": "2NoawJE7MciJ",
    "tags": []
   },
   "source": [
    "### tempo"
   ]
  },
  {
   "cell_type": "code",
   "execution_count": null,
   "metadata": {
    "id": "2ngGsZ5mMciJ",
    "outputId": "a1940b9a-bc2d-4e69-90f4-fd1dbbb92b9b",
    "tags": []
   },
   "outputs": [],
   "source": [
    "# The overall estimated tempo of a track in beats per minute (BPM). \n",
    "# In musical terminology, tempo is the speed or pace of a given piece and \n",
    "# derives directly from the average beat duration.\n",
    "# FLOAT\n",
    "\n",
    "tracks_df['tempo'] = tracks_df['tempo'].astype(float)\n",
    "\n",
    "tracks_df['tempo']"
   ]
  },
  {
   "cell_type": "markdown",
   "metadata": {
    "id": "SSxHC1x_MciJ",
    "tags": []
   },
   "source": [
    "### time_signature"
   ]
  },
  {
   "cell_type": "code",
   "execution_count": null,
   "metadata": {
    "id": "JryiqxI2MciJ",
    "outputId": "7129c6fc-be0b-4134-d311-b3fe252af600",
    "tags": []
   },
   "outputs": [],
   "source": [
    "# DOCS: An estimated time signature. The time signature (meter) is a \n",
    "# notational convention to specify how many beats are in each bar (or measure). \n",
    "# The time signature ranges from 3 to 7 indicating time signatures of \"3/4\", to \"7/4\".\n",
    "\n",
    "print(tracks_df['time_signature'].unique())\n",
    "tracks_df['time_signature'] = clean_and_check_in_range(tracks_df, 'time_signature', 3, 7, int)\n",
    "\n",
    "print(tracks_df['time_signature'].unique())\n",
    "\n",
    "tracks_df['time_signature']"
   ]
  },
  {
   "cell_type": "markdown",
   "metadata": {
    "id": "AP0GshEBDNUl",
    "jp-MarkdownHeadingCollapsed": true,
    "tags": []
   },
   "source": [
    "# EDA"
   ]
  },
  {
   "cell_type": "code",
   "execution_count": null,
   "metadata": {
    "id": "37eb2y13QpSZ",
    "outputId": "53b3bf62-fc5f-4d78-bd18-b0ce2df4ae04",
    "tags": []
   },
   "outputs": [],
   "source": [
    "!pip install pandas-profiling ipywidgets\n",
    "\n",
    "import pandas as pd\n",
    "from pandas_profiling import ProfileReport\n",
    "\n"
   ]
  },
  {
   "cell_type": "code",
   "execution_count": null,
   "metadata": {
    "id": "jZPP4KyOMciK",
    "outputId": "167b70f6-ec7d-4cc0-88a5-2ca248c988cc",
    "tags": []
   },
   "outputs": [],
   "source": [
    "report_artists = ProfileReport(artists_df)\n",
    "report_artists"
   ]
  },
  {
   "cell_type": "code",
   "execution_count": null,
   "metadata": {
    "id": "RFB3KH2eMciK",
    "outputId": "47f1e44e-df48-49f1-9365-e1eae360442d",
    "tags": []
   },
   "outputs": [],
   "source": [
    "report_tracks = ProfileReport(tracks_df)\n",
    "report_tracks"
   ]
  },
  {
   "cell_type": "code",
   "execution_count": null,
   "metadata": {
    "id": "VmQOhCXqMciL",
    "outputId": "a003af34-a0b6-403c-842b-20d89449c713",
    "tags": []
   },
   "outputs": [],
   "source": [
    "from yellowbrick.target import FeatureCorrelation\n",
    "%matplotlib inline\n",
    "import matplotlib.pyplot as plt\n",
    "\n",
    "feature_names = ['duration_ms', 'explicit', 'danceability', 'energy', 'key', 'loudness', 'mode', 'speechiness', 'acousticness', 'instrumentalness', 'liveness', 'valence', 'tempo', 'time_signature'             \n",
    "]\n",
    "\n",
    "X, y = tracks_df[feature_names], tracks_df['popularity']\n",
    "\n",
    "# Create a list of the feature names\n",
    "features = np.array(feature_names)\n",
    "\n",
    "# Instantiate the visualizer\n",
    "visualizer = FeatureCorrelation(labels=features)\n",
    "\n",
    "plt.rcParams['figure.figsize']=(20,10)\n",
    "visualizer.fit(X, y)     # Fit the data to the visualizer\n",
    "visualizer.show()"
   ]
  },
  {
   "cell_type": "code",
   "execution_count": null,
   "metadata": {
    "id": "I69B1LO9MciL",
    "tags": []
   },
   "outputs": [],
   "source": [
    "tracks_df['release_year'] = pd.DatetimeIndex(tracks_df['release_date']).year\n",
    "tracks_df['release_month'] = pd.DatetimeIndex(tracks_df['release_date']).month"
   ]
  },
  {
   "cell_type": "code",
   "execution_count": null,
   "metadata": {
    "id": "utU4QJbAMciL",
    "tags": []
   },
   "outputs": [],
   "source": [
    "def get_decade(year):\n",
    "    period_start = int(year/10) * 10\n",
    "    decade = '{}s'.format(period_start)\n",
    "    return decade\n",
    "\n",
    "tracks_df['decade'] = tracks_df['release_year'].apply(get_decade)"
   ]
  },
  {
   "cell_type": "code",
   "execution_count": null,
   "metadata": {
    "id": "JJKDlpa7MciL",
    "outputId": "7b7554fd-e06e-43d7-adcd-681dadf99cc8",
    "tags": []
   },
   "outputs": [],
   "source": [
    "plt.rcParams['figure.figsize']=(20,10)\n",
    "sns.countplot(data=tracks_df, x=\"decade\", order=['1920s', '1930s', '1940s', '1950s', '1960s', '1970s', '1980s', '1990s', '2000s', '2010s', '2020s'])\n",
    "genres_ = ['rock', 'pop', 'merengue']\n",
    "sns.boxplot( data=artists_df[artists_df['flat_genres_list'].isin(genres_)]['popularity'] ) #, x=\"decade\")"
   ]
  },
  {
   "cell_type": "code",
   "execution_count": null,
   "metadata": {
    "id": "foqXNQu9MciL",
    "outputId": "f24c8f8f-20f9-4f5b-b3de-43a165215cf6",
    "tags": []
   },
   "outputs": [],
   "source": [
    "genres_list = []\n",
    "    \n",
    "for a in artists_df.nlargest(100, 'popularity')['flat_genres_list']: # .apply(aaaa)\n",
    "    for b in a:\n",
    "        if b not in genres_list:\n",
    "            genres_list += [b]\n",
    "genres_list.sort()\n",
    "genres_list"
   ]
  },
  {
   "cell_type": "code",
   "execution_count": null,
   "metadata": {
    "id": "-HiXqgdoMciM",
    "outputId": "9e7d6908-140a-4033-efc9-f0a7d3393913",
    "tags": []
   },
   "outputs": [],
   "source": [
    "for a in artists_df['flat_genres_list']: # .apply(aaaa)\n",
    "    for b in a:\n",
    "        if b not in genres_list:\n",
    "            genres_list += [b]\n",
    "\n",
    "genres_list.sort()\n",
    "genres_counter = list(np.full_like(genres_list, 0, dtype=int))\n",
    "# print(genres_list, genres_counter)\n",
    "\n",
    "def loquesea(fgl, popu):\n",
    "    for i in range(len(genres_)):\n",
    "        if genres_[i] in fgl:\n",
    "            genres_counter[i] += int(popu)\n",
    "\n",
    "artists_df[artists_df['flat_genres_list'].apply(comp_genres)].apply(lambda x: loquesea(x.flat_genres_list, x.popularity), axis=1)\n",
    "\n",
    "ll = list(zip(genres_list, genres_counter))\n",
    "\n",
    "\n",
    "print(ll[:10])\n",
    "\n",
    "sorted(ll, key=lambda x: x[1])\n",
    "\n",
    "print(ll[0:10])\n",
    "\n",
    "fig, ax = plt.subplots()\n",
    "\n",
    "ax.set_ylabel('popularity')\n",
    "ax.set_xlabel('genre')\n",
    "# ax.set_title('Fruit supply by kind and color')\n",
    "\n",
    "genres_x = []\n",
    "genres_y = []\n",
    "for i in range(10):\n",
    "    genres_x += ll[0]\n",
    "    genres_y += ll[1]\n",
    "\n",
    "ax.bar(genres_x, genres_y, color=np.random.rand(len(genres_x),3))"
   ]
  },
  {
   "cell_type": "code",
   "execution_count": null,
   "metadata": {
    "id": "Ad09Mg1UMciM",
    "outputId": "b63bab6d-e96c-4768-c2e2-a3dbe0d5a61c",
    "tags": []
   },
   "outputs": [],
   "source": [
    "genres_list = ['rock', 'pop', 'hip', 'rap', 'k-pop', 'reggaeton', 'trap', 'electro']\n",
    "genres_list.sort()\n",
    "genres_counter = list(np.full_like(genres_list, 0, dtype=int))\n",
    "print(genres_list, genres_counter)\n",
    "\n",
    "def comp(list1, list2):\n",
    "    for val in list1:\n",
    "        if val in list2:\n",
    "            return True\n",
    "    return False\n",
    "\n",
    "def comp_genres(x):\n",
    "    return comp(x, genres_list)\n",
    "\n",
    "\n",
    "def loquesea(fgl, popu):\n",
    "    for i in range(len(genres_)):\n",
    "        if genres_[i] in fgl:\n",
    "            genres_counter[i] += int(popu)\n",
    "\n",
    "artists_df[artists_df['flat_genres_list'].apply(comp_genres)].apply(lambda x: loquesea(x.flat_genres_list, x.popularity), axis=1)\n",
    "\n",
    "print(genres_counter)\n",
    "\n",
    "fig, ax = plt.subplots()\n",
    "\n",
    "ax.set_ylabel('popularity')\n",
    "ax.set_xlabel('genre')\n",
    "# ax.set_title('Fruit supply by kind and color')\n",
    "\n",
    "ax.bar(genres_list, genres_counter, color=np.random.rand(len(genres_list),3))"
   ]
  },
  {
   "cell_type": "code",
   "execution_count": null,
   "metadata": {
    "id": "0dOoooFbMciM",
    "outputId": "9283f0de-1c47-4be7-aca5-bebde642085e",
    "tags": []
   },
   "outputs": [],
   "source": [
    "import plotly.express as px\n",
    "sound_features = ['acousticness']\n",
    "fig = px.line(tracks_df, x='release_year', y=sound_features)\n",
    "fig.show()\n",
    "\n",
    "sound_features = ['acousticness', 'danceability', 'energy', 'instrumentalness', 'liveness', 'valence']\n",
    "fig = px.line(tracks_df, x='release_year', y=sound_features)\n",
    "fig.show()\n",
    "\n"
   ]
  },
  {
   "cell_type": "code",
   "execution_count": null,
   "metadata": {
    "id": "c0yF42A0MciM",
    "outputId": "d1db495e-2a5c-44ae-ea6e-c26a68645d39",
    "tags": []
   },
   "outputs": [],
   "source": [
    "top10_genere = artists_df.nlargest(10, 'popularity')\n",
    "top10_genere"
   ]
  }
 ],
 "metadata": {
  "colab": {
   "collapsed_sections": [
    "AP0GshEBDNUl"
   ],
   "provenance": []
  },
  "kernelspec": {
   "display_name": "Python 3 (ipykernel)",
   "language": "python",
   "name": "python3"
  },
  "language_info": {
   "codemirror_mode": {
    "name": "ipython",
    "version": 3
   },
   "file_extension": ".py",
   "mimetype": "text/x-python",
   "name": "python",
   "nbconvert_exporter": "python",
   "pygments_lexer": "ipython3",
   "version": "3.10.10"
  },
  "toc-autonumbering": true
 },
 "nbformat": 4,
 "nbformat_minor": 4
}
